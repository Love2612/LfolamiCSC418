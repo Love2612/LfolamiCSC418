{
 "cells": [
  {
   "cell_type": "code",
   "execution_count": null,
   "id": "9ac29851",
   "metadata": {},
   "outputs": [
    {
     "name": "stdout",
     "output_type": "stream",
     "text": [
      "Enter your first name: Adaora\n",
      "Enter your password (sum of surname letters as a number or word): ········\n"
     ]
    }
   ],
   "source": [
    "import cv2\n",
    "import os\n",
    "import getpass\n",
    "from word2number import w2n  # Converts words to numbers\n",
    "\n",
    "\n",
    "def l_faces(img_folder):\n",
    "    k_faces = {}\n",
    "    for filename in os.listdir(img_folder):\n",
    "        if filename.endswith(\".jpg\") or filename.endswith(\".png\"):\n",
    "            firstname, surname = filename.split(\"_\")[0], filename.split(\"_\")[1].split(\".\")[0]  # Extract first name and surname\n",
    "            k_faces[firstname] = (os.path.join(img_folder, filename), surname)\n",
    "    return k_faces\n",
    "\n",
    "\n",
    "def check_user(username, password, k_faces):\n",
    "    if username not in k_faces:\n",
    "        print(\"User not found.\")\n",
    "        return False\n",
    "    \n",
    "    surname = k_faces[username][1] # Retrieve stored surname\n",
    "    surname_length = len(surname)  # Get number of letters in surname\n",
    "    \n",
    "    # Convert word passwords (e.g., \"six\") to numbers\n",
    "    password = password.strip().lower()  # Remove spaces and normalize case\n",
    "    try:\n",
    "        # Convert input password to a number: directly if digits, otherwise convert from words\n",
    "        password_number = int(password) if password.isdigit() else w2n.word_to_num(password)\n",
    "    except ValueError:\n",
    "        print(\"Invalid password format. Please enter a number or its word equivalent.\")\n",
    "        return False\n",
    "    \n",
    "    if password_number != surname_length:\n",
    "        print(f\"Incorrect password. Please try again.\")\n",
    "        return False\n",
    "    \n",
    "#     if password != str(surname_length):\n",
    "#         print(\"Incorrect password.\")\n",
    "#         return False\n",
    "    \n",
    "    return True\n",
    "\n",
    "def display_img(username, k_faces):\n",
    "    img_path = k_faces[username][0] # Retrieves the image file path\n",
    "    img = cv2.imread(img_path)\n",
    "    cv2.imshow(f\"Welcome {username}\", img)\n",
    "    cv2.waitKey(0)\n",
    "    cv2.destroyAllWindows()\n",
    "\n",
    "    \n",
    "def main():\n",
    "    img_folder = \"UMCimg\"\n",
    "    k_faces = l_faces(img_folder)\n",
    "    \n",
    "    while True:\n",
    "        username = input(\"Enter your first name: \")\n",
    "        password = getpass.getpass(\"Enter your password (sum of surname letters as a number or word): \")\n",
    "        \n",
    "        if check_user(username, password, k_faces):\n",
    "            display_img(username, k_faces)\n",
    "            break  # Exit loop after successful authentication\n",
    "        else:\n",
    "            print(\"Authentication failed. Please try again.\\n\")\n",
    "\n",
    "if __name__ == \"__main__\":\n",
    "    main()\n"
   ]
  },
  {
   "cell_type": "code",
   "execution_count": null,
   "id": "e635d14f",
   "metadata": {},
   "outputs": [],
   "source": [
    "pip install word2number"
   ]
  },
  {
   "cell_type": "code",
   "execution_count": null,
   "id": "1becd672",
   "metadata": {},
   "outputs": [],
   "source": []
  }
 ],
 "metadata": {
  "kernelspec": {
   "display_name": "Python 3 (ipykernel)",
   "language": "python",
   "name": "python3"
  },
  "language_info": {
   "codemirror_mode": {
    "name": "ipython",
    "version": 3
   },
   "file_extension": ".py",
   "mimetype": "text/x-python",
   "name": "python",
   "nbconvert_exporter": "python",
   "pygments_lexer": "ipython3",
   "version": "3.11.4"
  }
 },
 "nbformat": 4,
 "nbformat_minor": 5
}
