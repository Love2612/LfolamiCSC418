{
 "cells": [
  {
   "cell_type": "code",
   "execution_count": 1,
   "id": "6ddff26e",
   "metadata": {},
   "outputs": [
    {
     "ename": "SyntaxError",
     "evalue": "invalid syntax (1858140219.py, line 2)",
     "output_type": "error",
     "traceback": [
      "\u001b[1;36m  Cell \u001b[1;32mIn[1], line 2\u001b[1;36m\u001b[0m\n\u001b[1;33m    import matplotlib.pyp;ot as plt\u001b[0m\n\u001b[1;37m                             ^\u001b[0m\n\u001b[1;31mSyntaxError\u001b[0m\u001b[1;31m:\u001b[0m invalid syntax\n"
     ]
    }
   ],
   "source": [
    "import cv2\n",
    "import matplotlib.pyplot as plt\n",
    "import numpy as np\n",
    "\n",
    "img = cv2.imread('imgs/sunset.jpeg')\n",
    "\n",
    "# Plot the originam image\n",
    "plt.subplot(1, 2, 1)\n",
    "plt.title(\"Original\")\n",
    "plt.imshow(img)\n",
    "\n",
    "# Adjust the brightness and contrast\n",
    "brightness = 5\n",
    "contrast = 1.5\n",
    "img2 = cv2.addWeighted(img, contrast, np.zeros(img.shape, img.dtype), 0, brightness)\n",
    "\n",
    "# Save the image\n",
    "cv2.imwrite('img/contrast_image.jpeg', img2)\n",
    "\n",
    "# Plot the contrast image\n",
    "plt.subplot(1, 2, 2)\n",
    "plt.title(\"Brightness & Contrast\")\n",
    "plt.imshow(img2)\n",
    "plt.show()"
   ]
  },
  {
   "cell_type": "code",
   "execution_count": null,
   "id": "6e134928",
   "metadata": {},
   "outputs": [],
   "source": []
  }
 ],
 "metadata": {
  "kernelspec": {
   "display_name": "Python 3 (ipykernel)",
   "language": "python",
   "name": "python3"
  },
  "language_info": {
   "codemirror_mode": {
    "name": "ipython",
    "version": 3
   },
   "file_extension": ".py",
   "mimetype": "text/x-python",
   "name": "python",
   "nbconvert_exporter": "python",
   "pygments_lexer": "ipython3",
   "version": "3.11.4"
  }
 },
 "nbformat": 4,
 "nbformat_minor": 5
}
