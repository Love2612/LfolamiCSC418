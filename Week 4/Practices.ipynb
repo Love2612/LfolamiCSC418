{
 "cells": [
  {
   "cell_type": "markdown",
   "id": "f811c215",
   "metadata": {},
   "source": [
    "# Sobel edge detection"
   ]
  },
  {
   "cell_type": "code",
   "execution_count": 1,
   "id": "60a21240",
   "metadata": {},
   "outputs": [],
   "source": [
    "import cv2\n",
    "import numpy as np"
   ]
  },
  {
   "cell_type": "code",
   "execution_count": null,
   "id": "92c91f42",
   "metadata": {},
   "outputs": [],
   "source": [
    "\n",
    "# Load the image\n",
    "image = cv2.imread('imgs/damson.jpeg', cv2.IMREAD_GRAYSCALE)\n",
    "\n",
    "# Resize image\n",
    "image = cv2.resize(image, (500, 400))\n",
    "\n",
    "# Apply Sobel edge detection\n",
    "sobel_x = cv2.Sobel(image, cv2.CV_64F, 1, 0, ksize=3)\n",
    "sobel_y = cv2.Sobel(image, cv2.CV_64F, 0, 1, ksize=3)\n",
    "\n",
    "# Combine the gradient images\n",
    "sobel_combined = cv2.magnitude(sobel_x, sobel_y)\n",
    "\n",
    "# Display the original image and the Sobel edges\n",
    "cv2.imshow('Original', image)\n",
    "cv2.imshow('Sobel Edges', np.uint8(sobel_combined))\n",
    "\n",
    "# Wait for a key press and close all windows\n",
    "cv2.waitKey(0)\n",
    "cv2.destroyAllWindows()"
   ]
  },
  {
   "cell_type": "markdown",
   "id": "417b169e",
   "metadata": {},
   "source": [
    "# Prewitt Edge Detection"
   ]
  },
  {
   "cell_type": "code",
   "execution_count": null,
   "id": "f17e1050",
   "metadata": {},
   "outputs": [],
   "source": [
    "import cv2\n",
    "import numpy as np\n",
    "\n",
    "# Load the image\n",
    "image = cv2.imread('imgs/millie.jpeg', cv2.IMREAD_GRAYSCALE)\n",
    "\n",
    "# Resize image\n",
    "image = cv2.resize(image, (500, 400))\n",
    "\n",
    "# Define Prewitt kernels\n",
    "kernel_x = np.array([[-1, 0, 1], \n",
    "                      [-1, 0, 1], \n",
    "                      [-1, 0, 1]])\n",
    "\n",
    "kernel_y = np.array([[-1, -1, -1], \n",
    "                      [0, 0, 0], \n",
    "                      [1, 1, 1]])\n",
    "\n",
    "# Apply Prewitt edge detection\n",
    "prewitt_x = cv2.filter2D(image, -1, kernel_x)\n",
    "prewitt_y = cv2.filter2D(image, -1, kernel_y)\n",
    "\n",
    "# Compute magnitude of gradients manually\n",
    "prewitt_combined = np.sqrt(np.square(prewitt_x) + np.square(prewitt_y))\n",
    "\n",
    "# Display the original image and the Prewitt edges\n",
    "cv2.imshow('Original', image)\n",
    "cv2.imshow('Prewitt Edges', np.uint8(prewitt_combined))\n",
    "\n",
    "# Wait for a key press and close all windows\n",
    "cv2.waitKey(0)\n",
    "cv2.destroyAllWindows()"
   ]
  },
  {
   "cell_type": "markdown",
   "id": "3060c60b",
   "metadata": {},
   "source": [
    "# Robert Edge Detection"
   ]
  },
  {
   "cell_type": "code",
   "execution_count": null,
   "id": "a80c5e25",
   "metadata": {},
   "outputs": [],
   "source": [
    "import cv2\n",
    "import numpy as np\n",
    "\n",
    "# Load the image\n",
    "image = cv2.imread('imgs/damson.jpeg', cv2.IMREAD_GRAYSCALE)\n",
    "\n",
    "# Perform Gaussian Blur\n",
    "image = cv2.GaussianBlur(image, (5, 5), 0)\n",
    "\n",
    "# Define Robert kernels\n",
    "kernel_x = np.array([[1, 0],\n",
    "                     [0, -1]])\n",
    "\n",
    "kernel_y = np.array([[0, 1],\n",
    "                     [-1, 0]])\n",
    "\n",
    "# Apply Robert edge detection\n",
    "robert_x = cv2.filter2D(image, -1, kernel_x)\n",
    "robert_y = cv2.filter2D(image, -1, kernel_y)\n",
    "\n",
    "# Combine the gradient images\n",
    "robert_combined = np.sqrt(np.square(robert_x) + np.square(robert_y))\n",
    "\n",
    "# Display the original image and the Robert edges\n",
    "cv2.imshow('Original', image)\n",
    "cv2.imshow('Robert Edges', np.uint8(robert_combined))\n",
    "\n",
    "# Wait for a key press and close all windows\n",
    "cv2.waitKey(0)\n",
    "cv2.destroyAllWindows()"
   ]
  },
  {
   "cell_type": "markdown",
   "id": "b1f534c6",
   "metadata": {},
   "source": [
    "# Laplacian Edge Detection"
   ]
  },
  {
   "cell_type": "code",
   "execution_count": null,
   "id": "8a4d3e7e",
   "metadata": {},
   "outputs": [],
   "source": [
    "import cv2\n",
    "\n",
    "# Load the image\n",
    "image = cv2.imread('imgs/millie.jpeg', cv2.IMREAD_GRAYSCALE)\n",
    "\n",
    "# Resize image\n",
    "image = cv2.resize(image, (400, 400))\n",
    "\n",
    "# Perform Gaussian Blur\n",
    "# image = cv2.GaussianBlur(image, (5, 5), 0)\n",
    "\n",
    "# Apply Laplacian edge detection\n",
    "laplacian = cv2.Laplacian(image, cv2.CV_64F)\n",
    "\n",
    "# Convert the output to an 8-bit image\n",
    "laplacian = cv2.convertScaleAbs(laplacian)\n",
    "\n",
    "# Display the original image and the Laplacian edges\n",
    "cv2.imshow('Original', image)\n",
    "cv2.imshow('Laplacian Edges', laplacian)\n",
    "\n",
    "# Wait for a key press and close all windows\n",
    "cv2.waitKey(0)\n",
    "cv2.destroyAllWindows()"
   ]
  },
  {
   "cell_type": "markdown",
   "id": "bde9545f",
   "metadata": {},
   "source": [
    "# Canny Edge detection"
   ]
  },
  {
   "cell_type": "code",
   "execution_count": null,
   "id": "421968ac",
   "metadata": {},
   "outputs": [],
   "source": [
    "import cv2\n",
    "\n",
    "# Load the image\n",
    "image = cv2.imread('imgs/damson.jpeg', cv2.IMREAD_GRAYSCALE)\n",
    "\n",
    "# Resize image\n",
    "image = cv2.resize(image, (400, 400))\n",
    "\n",
    "# Perform Canny edge detection\n",
    "edges = cv2.Canny(image, 100, 200)  # Adjust the threshold values as needed\n",
    "\n",
    "# Display the original image and the detected edges\n",
    "cv2.imshow('Original', image)\n",
    "cv2.imshow('Edges', edges)\n",
    "\n",
    "# Wait for a key press and close all windows\n",
    "cv2.waitKey(0)\n",
    "cv2.destroyAllWindows()"
   ]
  },
  {
   "cell_type": "code",
   "execution_count": null,
   "id": "b80ec8a4",
   "metadata": {},
   "outputs": [],
   "source": []
  }
 ],
 "metadata": {
  "kernelspec": {
   "display_name": "Python 3 (ipykernel)",
   "language": "python",
   "name": "python3"
  },
  "language_info": {
   "codemirror_mode": {
    "name": "ipython",
    "version": 3
   },
   "file_extension": ".py",
   "mimetype": "text/x-python",
   "name": "python",
   "nbconvert_exporter": "python",
   "pygments_lexer": "ipython3",
   "version": "3.11.4"
  }
 },
 "nbformat": 4,
 "nbformat_minor": 5
}
