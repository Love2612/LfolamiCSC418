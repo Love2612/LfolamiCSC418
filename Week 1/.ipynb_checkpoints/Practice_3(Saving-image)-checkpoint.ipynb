{
 "cells": [
  {
   "cell_type": "code",
   "execution_count": 1,
   "id": "ffafa33d",
   "metadata": {},
   "outputs": [
    {
     "name": "stdout",
     "output_type": "stream",
     "text": [
      "Before saving image: \n",
      "['an_c_and_t.jpeg', 'cc_and_tt.jpeg', 'c_and_t.jpeg', 'damson.jpeg', 'millie.jpeg', 'sunset.jpeg']\n",
      "After saving image: \n",
      "['an_c_and_t.jpeg', 'cc_and_tt.jpeg', 'c_and_t.jpeg', 'damson.jpeg', 'greyImage.jpeg', 'millie.jpeg', 'sunset.jpeg']\n",
      "Successfully saved\n"
     ]
    }
   ],
   "source": [
    "# Python program to explain cv2.imwrite() method\n",
    "\n",
    "# importing cv2\n",
    "import cv2\n",
    "\n",
    "# importing os module\n",
    "import os\n",
    "\n",
    "# image path\n",
    "img_path = r'C:\\Users\\lovef\\OneDrive\\Desktop\\Love Yr4\\2nd Semester\\CSC418\\CSC418Projects\\Week 1\\imgs\\damson.jpeg'\n",
    "\n",
    "# image directory\n",
    "directory = r'C:\\Users\\lovef\\OneDrive\\Desktop\\Love Yr4\\2nd Semester\\CSC418\\CSC418Projects\\Week 1\\imgs'\n",
    "\n",
    "# using cv2.imread() method to read the image\n",
    "img = cv2.imread(img_path, 0)\n",
    "\n",
    "# change the current directory to specified directory\n",
    "os.chdir(directory)\n",
    "\n",
    "# list files and directories\n",
    "print(\"Before saving image: \")\n",
    "print(os.listdir(directory))\n",
    "\n",
    "# filename\n",
    "filename = 'greyImage.jpeg'\n",
    "\n",
    "# using cv2.imwrite() method to save the image\n",
    "cv2.imwrite(filename, img)\n",
    "\n",
    "# list files and directories\n",
    "print(\"After saving image: \")\n",
    "print(os.listdir(directory))\n",
    "\n",
    "print(\"Successfully saved\")"
   ]
  },
  {
   "cell_type": "code",
   "execution_count": null,
   "id": "24be5870",
   "metadata": {},
   "outputs": [],
   "source": []
  }
 ],
 "metadata": {
  "kernelspec": {
   "display_name": "Python 3 (ipykernel)",
   "language": "python",
   "name": "python3"
  },
  "language_info": {
   "codemirror_mode": {
    "name": "ipython",
    "version": 3
   },
   "file_extension": ".py",
   "mimetype": "text/x-python",
   "name": "python",
   "nbconvert_exporter": "python",
   "pygments_lexer": "ipython3",
   "version": "3.11.4"
  }
 },
 "nbformat": 4,
 "nbformat_minor": 5
}
