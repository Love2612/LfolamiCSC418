{
 "cells": [
  {
   "cell_type": "code",
   "execution_count": null,
   "id": "ad17866d",
   "metadata": {},
   "outputs": [],
   "source": [
    "# Importing the OpenCV library\n",
    "import cv2\n",
    "\n",
    "# path\n",
    "path = 'imgs/damson.jpeg'\n",
    "\n",
    "# Reading the image in greyscale mode\n",
    "imgs = cv2.imread(path, 0)\n",
    "\n",
    "# Window name in which the image is displayed\n",
    "window_name = 'Actor'\n",
    "\n",
    "# Display image\n",
    "cv2.imshow(window_name, imgs)\n",
    "\n",
    "# Hold the window\n",
    "cv2.waitKey(0)\n",
    "\n",
    "# remove/delete created GUI window from screen and memory\n",
    "cv2.destroyAllWindows()\n"
   ]
  },
  {
   "cell_type": "code",
   "execution_count": null,
   "id": "9b69d588",
   "metadata": {},
   "outputs": [],
   "source": []
  }
 ],
 "metadata": {
  "kernelspec": {
   "display_name": "Python 3 (ipykernel)",
   "language": "python",
   "name": "python3"
  },
  "language_info": {
   "codemirror_mode": {
    "name": "ipython",
    "version": 3
   },
   "file_extension": ".py",
   "mimetype": "text/x-python",
   "name": "python",
   "nbconvert_exporter": "python",
   "pygments_lexer": "ipython3",
   "version": "3.11.4"
  }
 },
 "nbformat": 4,
 "nbformat_minor": 5
}
