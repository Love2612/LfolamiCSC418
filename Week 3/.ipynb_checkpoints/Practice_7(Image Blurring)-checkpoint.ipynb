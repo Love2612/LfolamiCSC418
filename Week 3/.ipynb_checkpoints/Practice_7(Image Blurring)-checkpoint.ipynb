{
 "cells": [
  {
   "cell_type": "markdown",
   "id": "be85d4b0",
   "metadata": {},
   "source": [
    "## Image Blurring"
   ]
  },
  {
   "cell_type": "code",
   "execution_count": 1,
   "id": "5f249a8f",
   "metadata": {},
   "outputs": [],
   "source": [
    "import cv2\n",
    "\n",
    "img = cv2.imread('imgs/damson.jpeg')\n",
    "\n",
    "cv2.imshow('Original Image', img)\n",
    "cv2.waitKey(0)\n",
    "\n",
    "# Guassian Blur\n",
    "Gaussian = cv2.GaussianBlur(img, (7, 7), 0)\n",
    "cv2.imshow('Gaussian Blurring', Gaussian)\n",
    "cv2.waitKey(0)\n",
    "\n",
    "# Median Blur\n",
    "median = cv2.medianBlur(img, 5)\n",
    "cv2.imshow('Median Blurring', median)\n",
    "cv2.waitKey(0)\n",
    "                        \n",
    "# Bilateral Blur\n",
    "bilateral = cv2.bilateralFilter(img, 9, 75, 75)\n",
    "cv2.imshow('Bilateral Blurring', bilateral)\n",
    "cv2.waitKey(0)\n",
    "\n",
    "cv2.destroyAllWindows()"
   ]
  }
 ],
 "metadata": {
  "kernelspec": {
   "display_name": "Python 3 (ipykernel)",
   "language": "python",
   "name": "python3"
  },
  "language_info": {
   "codemirror_mode": {
    "name": "ipython",
    "version": 3
   },
   "file_extension": ".py",
   "mimetype": "text/x-python",
   "name": "python",
   "nbconvert_exporter": "python",
   "pygments_lexer": "ipython3",
   "version": "3.11.4"
  }
 },
 "nbformat": 4,
 "nbformat_minor": 5
}
