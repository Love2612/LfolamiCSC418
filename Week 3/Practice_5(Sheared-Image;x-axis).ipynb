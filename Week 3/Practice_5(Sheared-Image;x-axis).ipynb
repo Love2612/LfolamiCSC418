{
 "cells": [
  {
   "cell_type": "markdown",
   "id": "b2a23d86",
   "metadata": {},
   "source": [
    "## Sheared Image in x-axis"
   ]
  },
  {
   "cell_type": "code",
   "execution_count": null,
   "id": "8b9296f9",
   "metadata": {},
   "outputs": [],
   "source": [
    "import numpy as np\n",
    "import matplotlib.pyplot as plt\n",
    "import cv2 as cv\n",
    "\n",
    "img = cv.imread('imgs/damson.jpeg', 0)\n",
    "\n",
    "rows, cols = img.shape\n",
    "\n",
    "# Plot the original image\n",
    "plt.subplot(1, 2, 1)\n",
    "plt.title(\"Original\")\n",
    "plt.imshow(img)\n",
    "\n",
    "M = np.float32([[1, 0.5, 0], [0, 1, 0], [0, 0, 1]])\n",
    "sheared_img = cv.warpPerspective(img, M, (int(cols*1.5), int(rows*1.5)))\n",
    "\n",
    "# Plot the sheared image\n",
    "plt.subplot(1, 2, 2)\n",
    "plt.title(\"Sheared Image X-axis\")\n",
    "plt.imshow(sheared_img)\n",
    "\n",
    "cv.imshow('img', sheared_img)\n",
    "cv.waitKey(0)\n",
    "cv.destroyAllWindows()"
   ]
  },
  {
   "cell_type": "code",
   "execution_count": null,
   "id": "7b6447c6",
   "metadata": {},
   "outputs": [],
   "source": []
  }
 ],
 "metadata": {
  "kernelspec": {
   "display_name": "Python 3 (ipykernel)",
   "language": "python",
   "name": "python3"
  },
  "language_info": {
   "codemirror_mode": {
    "name": "ipython",
    "version": 3
   },
   "file_extension": ".py",
   "mimetype": "text/x-python",
   "name": "python",
   "nbconvert_exporter": "python",
   "pygments_lexer": "ipython3",
   "version": "3.11.4"
  }
 },
 "nbformat": 4,
 "nbformat_minor": 5
}
